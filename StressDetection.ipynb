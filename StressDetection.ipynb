{
 "cells": [
  {
   "cell_type": "markdown",
   "id": "5d439888-f735-408d-8c1c-6d78077ed581",
   "metadata": {},
   "source": [
    "## **Utilizando NLP para identificação dos sintomas de estresse atráves de um texto**"
   ]
  },
  {
   "cell_type": "markdown",
   "id": "4a1b555d-7932-48be-87bb-229b4793481f",
   "metadata": {},
   "source": [
    "***"
   ]
  },
  {
   "cell_type": "markdown",
   "id": "9323ed6c-2afc-4be4-b963-bcae11efc448",
   "metadata": {},
   "source": [
    "##### **Import das bibliotecas que serão utilizadas no projeto**"
   ]
  },
  {
   "cell_type": "code",
   "execution_count": 90,
   "id": "443c03c5-aad2-46ac-b0ff-8f5a20c2f760",
   "metadata": {},
   "outputs": [],
   "source": [
    "import pandas as pd\n",
    "import numpy as np\n",
    "from sklearn.model_selection import train_test_split\n",
    "from sklearn.feature_extraction.text import TfidfVectorizer\n",
    "\n",
    "\n",
    "from sklearn.naive_bayes import MultinomialNB\n",
    "from sklearn.naive_bayes import GaussianNB\n",
    "from sklearn.naive_bayes import ComplementNB\n",
    "from sklearn import metrics\n",
    "from sklearn.metrics import accuracy_score\n",
    "from sklearn.metrics import classification_report\n",
    "from sklearn.metrics import f1_score\n",
    "\n",
    "\n",
    "from sklearn.linear_model import SGDClassifier\n",
    "from sklearn.neural_network import MLPClassifier\n",
    "\n",
    "from sklearn.metrics import confusion_matrix\n",
    "import matplotlib.pyplot as plt\n",
    "%matplotlib inline"
   ]
  },
  {
   "cell_type": "markdown",
   "id": "4b9dccc4-271b-4ee2-914f-230c00663301",
   "metadata": {},
   "source": [
    "***"
   ]
  },
  {
   "cell_type": "markdown",
   "id": "29d19016-3172-4a2c-ab5d-fe615057a8fe",
   "metadata": {},
   "source": [
    "##### **Configurando o display do pandas e carregando o dataset**"
   ]
  },
  {
   "cell_type": "code",
   "execution_count": 2,
   "id": "e0462ac1-fd71-4811-abd8-2a0f733a5d6d",
   "metadata": {},
   "outputs": [],
   "source": [
    "#configurando display pandas\n",
    "pd.set_option('max_colwidth', 1000)"
   ]
  },
  {
   "cell_type": "code",
   "execution_count": 115,
   "id": "54ffe1e3-5c16-4712-a1bc-b249538b97d2",
   "metadata": {},
   "outputs": [],
   "source": [
    "#carrega o dataframe com os jogos mais populares de 1980 a 2023\n",
    "df_sintomas = pd.read_csv('C:\\\\TCC_PUC_2022\\\\Stress.csv')"
   ]
  },
  {
   "cell_type": "markdown",
   "id": "1ea39ff8-1a59-4b4a-8b36-779f4867e5c6",
   "metadata": {},
   "source": [
    "***"
   ]
  },
  {
   "cell_type": "markdown",
   "id": "00bb058f-9b91-4bd1-89ff-1af3a26cff50",
   "metadata": {},
   "source": [
    "##### **Analisando o dataset**"
   ]
  },
  {
   "cell_type": "code",
   "execution_count": 116,
   "id": "a3f3cbf1-a8d7-4a9b-b11c-0c77964cc85b",
   "metadata": {},
   "outputs": [
    {
     "data": {
      "text/html": [
       "<div>\n",
       "<style scoped>\n",
       "    .dataframe tbody tr th:only-of-type {\n",
       "        vertical-align: middle;\n",
       "    }\n",
       "\n",
       "    .dataframe tbody tr th {\n",
       "        vertical-align: top;\n",
       "    }\n",
       "\n",
       "    .dataframe thead th {\n",
       "        text-align: right;\n",
       "    }\n",
       "</style>\n",
       "<table border=\"1\" class=\"dataframe\">\n",
       "  <thead>\n",
       "    <tr style=\"text-align: right;\">\n",
       "      <th></th>\n",
       "      <th>subreddit</th>\n",
       "      <th>post_id</th>\n",
       "      <th>sentence_range</th>\n",
       "      <th>text</th>\n",
       "      <th>label</th>\n",
       "      <th>confidence</th>\n",
       "      <th>social_timestamp</th>\n",
       "    </tr>\n",
       "  </thead>\n",
       "  <tbody>\n",
       "    <tr>\n",
       "      <th>0</th>\n",
       "      <td>ptsd</td>\n",
       "      <td>8601tu</td>\n",
       "      <td>(15, 20)</td>\n",
       "      <td>He said he had not felt that way before, suggeted I go rest and so ..TRIGGER AHEAD IF YOUI'RE A HYPOCONDRIAC LIKE ME: i decide to look up \"feelings of doom\" in hopes of maybe getting sucked into some rabbit hole of ludicrous conspiracy, a stupid \"are you psychic\" test or new age b.s., something I could even laugh at down the road. No, I ended up reading that this sense of doom can be indicative of various health ailments; one of which I am prone to.. So on top of my \"doom\" to my gloom..I am now f'n worried about my heart. I do happen to have a physical in 48 hours.</td>\n",
       "      <td>1</td>\n",
       "      <td>0.8</td>\n",
       "      <td>1521614353</td>\n",
       "    </tr>\n",
       "    <tr>\n",
       "      <th>1</th>\n",
       "      <td>assistance</td>\n",
       "      <td>8lbrx9</td>\n",
       "      <td>(0, 5)</td>\n",
       "      <td>Hey there r/assistance, Not sure if this is the right place to post this.. but here goes =) I'm currently a student intern at Sandia National Labs and working on a survey to help improve our marketing outreach efforts at the many schools we recruit at around the country. We're looking for current undergrad/grad STEM students so if you're a STEM student or know STEM students, I would greatly appreciate if you can help take or pass along this short survey. As a thank you, everyone who helps take the survey will be entered in to a drawing for chance to win one of three $50 Amazon gcs.</td>\n",
       "      <td>0</td>\n",
       "      <td>1.0</td>\n",
       "      <td>1527009817</td>\n",
       "    </tr>\n",
       "    <tr>\n",
       "      <th>2</th>\n",
       "      <td>ptsd</td>\n",
       "      <td>9ch1zh</td>\n",
       "      <td>(15, 20)</td>\n",
       "      <td>My mom then hit me with the newspaper and it shocked me that she would do this, she knows I don't like play hitting, smacking, striking, hitting or violence of any sort on my person. Do I send out this vibe asking for it from the universe? Then yesterday I decided to take my friend to go help another \"friend\" move to a new place. While we were driving the friend we are moving strikes me on my shoulder. And I address it immediately because this is the 4th time I have told him not to do these things, then my other friend who is driving nearly gets into an collision with another car i think because he was high on marijuana and the friend we are moving in the backseat is like \"you have to understand I was just trying to get your attention\" you know the thing 5 year olds do to get peoples attention by smacking them, this guy is in his 60's.</td>\n",
       "      <td>1</td>\n",
       "      <td>0.8</td>\n",
       "      <td>1535935605</td>\n",
       "    </tr>\n",
       "    <tr>\n",
       "      <th>3</th>\n",
       "      <td>relationships</td>\n",
       "      <td>7rorpp</td>\n",
       "      <td>[5, 10]</td>\n",
       "      <td>until i met my new boyfriend, he is amazing, he is kind, he is sweet, he is a good student, he likes the same things as me, my family likes him, and so on... but i dont feel that passion that rush i felt with my ex, the truth is that when i started going out with my boyfriend i secretly saw my ex a few times to see if i really didnt feel nothing for him, but it was disgusting, i didnt even want him to touch me, i feel bad with myself i didnt want him, but still, i was there. then i kinda realized i felt nothing love related for him and it was ok, HE was HURT when he knew i was dating this boy and he even begged me to stay but of course not. but now the problem is that when im with my boyfriend i dont feel like i love him, like that thing you kinda have to feel with a new love, i just feel \"ok\" with him, and i catch myself thinking about my ex from time to time, remembering all the good things we had and it drives me crazy because i know that if i see him again i wont feel that way,...</td>\n",
       "      <td>1</td>\n",
       "      <td>0.6</td>\n",
       "      <td>1516429555</td>\n",
       "    </tr>\n",
       "    <tr>\n",
       "      <th>4</th>\n",
       "      <td>survivorsofabuse</td>\n",
       "      <td>9p2gbc</td>\n",
       "      <td>[0, 5]</td>\n",
       "      <td>October is Domestic Violence Awareness Month and I am a domestic violence survivor who is still struggling, even after over four years. Lately I have been feeling very angry. Angry that my abusive ex received no real consequences for his actions. This man abused me in all manners: physically, sexually, emotionally, verbally, financially, etc. I was granted a restraining order against him (and it was renewed a year later) but I was unable to press criminal charges against him because I didn’t have enough evidence to have a case.</td>\n",
       "      <td>1</td>\n",
       "      <td>0.8</td>\n",
       "      <td>1539809005</td>\n",
       "    </tr>\n",
       "  </tbody>\n",
       "</table>\n",
       "</div>"
      ],
      "text/plain": [
       "          subreddit post_id sentence_range  \\\n",
       "0              ptsd  8601tu       (15, 20)   \n",
       "1        assistance  8lbrx9         (0, 5)   \n",
       "2              ptsd  9ch1zh       (15, 20)   \n",
       "3     relationships  7rorpp        [5, 10]   \n",
       "4  survivorsofabuse  9p2gbc         [0, 5]   \n",
       "\n",
       "                                                                                                                                                                                                                                                                                                                                                                                                                                                                                                                                                                                                                                                                                                                                                                                                                                                                                                                                                                                                                                      text  \\\n",
       "0                                                                                                                                                                                                                                                                                                                                                                                                                                              He said he had not felt that way before, suggeted I go rest and so ..TRIGGER AHEAD IF YOUI'RE A HYPOCONDRIAC LIKE ME: i decide to look up \"feelings of doom\" in hopes of maybe getting sucked into some rabbit hole of ludicrous conspiracy, a stupid \"are you psychic\" test or new age b.s., something I could even laugh at down the road. No, I ended up reading that this sense of doom can be indicative of various health ailments; one of which I am prone to.. So on top of my \"doom\" to my gloom..I am now f'n worried about my heart. I do happen to have a physical in 48 hours.   \n",
       "1                                                                                                                                                                                                                                                                                                                                                                                                                             Hey there r/assistance, Not sure if this is the right place to post this.. but here goes =) I'm currently a student intern at Sandia National Labs and working on a survey to help improve our marketing outreach efforts at the many schools we recruit at around the country. We're looking for current undergrad/grad STEM students so if you're a STEM student or know STEM students, I would greatly appreciate if you can help take or pass along this short survey. As a thank you, everyone who helps take the survey will be entered in to a drawing for chance to win one of three $50 Amazon gcs.   \n",
       "2                                                                                                                                                          My mom then hit me with the newspaper and it shocked me that she would do this, she knows I don't like play hitting, smacking, striking, hitting or violence of any sort on my person. Do I send out this vibe asking for it from the universe? Then yesterday I decided to take my friend to go help another \"friend\" move to a new place. While we were driving the friend we are moving strikes me on my shoulder. And I address it immediately because this is the 4th time I have told him not to do these things, then my other friend who is driving nearly gets into an collision with another car i think because he was high on marijuana and the friend we are moving in the backseat is like \"you have to understand I was just trying to get your attention\" you know the thing 5 year olds do to get peoples attention by smacking them, this guy is in his 60's.   \n",
       "3  until i met my new boyfriend, he is amazing, he is kind, he is sweet, he is a good student, he likes the same things as me, my family likes him, and so on... but i dont feel that passion that rush i felt with my ex, the truth is that when i started going out with my boyfriend i secretly saw my ex a few times to see if i really didnt feel nothing for him, but it was disgusting, i didnt even want him to touch me, i feel bad with myself i didnt want him, but still, i was there. then i kinda realized i felt nothing love related for him and it was ok, HE was HURT when he knew i was dating this boy and he even begged me to stay but of course not. but now the problem is that when im with my boyfriend i dont feel like i love him, like that thing you kinda have to feel with a new love, i just feel \"ok\" with him, and i catch myself thinking about my ex from time to time, remembering all the good things we had and it drives me crazy because i know that if i see him again i wont feel that way,...   \n",
       "4                                                                                                                                                                                                                                                                                                                                                                                                                                                                                    October is Domestic Violence Awareness Month and I am a domestic violence survivor who is still struggling, even after over four years. Lately I have been feeling very angry. Angry that my abusive ex received no real consequences for his actions. This man abused me in all manners: physically, sexually, emotionally, verbally, financially, etc. I was granted a restraining order against him (and it was renewed a year later) but I was unable to press criminal charges against him because I didn’t have enough evidence to have a case.   \n",
       "\n",
       "   label  confidence  social_timestamp  \n",
       "0      1         0.8        1521614353  \n",
       "1      0         1.0        1527009817  \n",
       "2      1         0.8        1535935605  \n",
       "3      1         0.6        1516429555  \n",
       "4      1         0.8        1539809005  "
      ]
     },
     "execution_count": 116,
     "metadata": {},
     "output_type": "execute_result"
    }
   ],
   "source": [
    "#describe dos dados do dataset\n",
    "df_sintomas.head()"
   ]
  },
  {
   "cell_type": "markdown",
   "id": "0bf1e5a3-1b4a-488b-bde5-bb7fb8a903be",
   "metadata": {},
   "source": [
    "***"
   ]
  },
  {
   "cell_type": "markdown",
   "id": "b3703291-120b-4f85-b4bb-b6e7dd89ce2c",
   "metadata": {},
   "source": [
    "##### **Tratando os dados do dataset**"
   ]
  },
  {
   "cell_type": "code",
   "execution_count": 5,
   "id": "25a4f34d-2493-4acc-afdb-d3f26ae720e1",
   "metadata": {},
   "outputs": [],
   "source": [
    "#Select das colunas que desejo utilizar\n",
    "df_sintomas = df_sintomas[['text','label',]].dropna()"
   ]
  },
  {
   "cell_type": "code",
   "execution_count": 6,
   "id": "4d98a2b1-4c84-4e06-8fbf-c0bf65c08fca",
   "metadata": {},
   "outputs": [],
   "source": [
    "#rename dos campos para um mais amigavél\n",
    "df = df_sintomas.rename(columns={\"text\": \"symptoms\", \"label\": \"in_stress\"})"
   ]
  },
  {
   "cell_type": "code",
   "execution_count": 7,
   "id": "644de651-f31b-418c-85ae-7227b2ad47d0",
   "metadata": {},
   "outputs": [
    {
     "name": "stdout",
     "output_type": "stream",
     "text": [
      "<class 'pandas.core.frame.DataFrame'>\n",
      "RangeIndex: 2838 entries, 0 to 2837\n",
      "Data columns (total 2 columns):\n",
      " #   Column     Non-Null Count  Dtype \n",
      "---  ------     --------------  ----- \n",
      " 0   symptoms   2838 non-null   object\n",
      " 1   in_stress  2838 non-null   int64 \n",
      "dtypes: int64(1), object(1)\n",
      "memory usage: 44.5+ KB\n"
     ]
    }
   ],
   "source": [
    "#describe para conferir se as alterações foram aplicadas\n",
    "df.info()"
   ]
  },
  {
   "cell_type": "code",
   "execution_count": 8,
   "id": "ac89a00d-a41c-4286-9319-79d33a2edfee",
   "metadata": {},
   "outputs": [],
   "source": [
    "#Criando uma nova coluna descritiva baseada no campo de indicativo de stress que possui valores 0 (sem estress) e 1 (estress detectado)\n",
    "conditions = [\n",
    "    (df['in_stress'] == 0),\n",
    "    (df['in_stress'] == 1)\n",
    "    ]\n",
    "\n",
    "names = ['No','Yes']\n",
    "\n",
    "df['Stress_Diagnosis'] = np.select(conditions, names)"
   ]
  },
  {
   "cell_type": "code",
   "execution_count": 9,
   "id": "b693fe9e-c1a7-42ff-8b1e-6645cc836931",
   "metadata": {},
   "outputs": [
    {
     "data": {
      "text/plain": [
       "Yes    1488\n",
       "No     1350\n",
       "Name: Stress_Diagnosis, dtype: int64"
      ]
     },
     "execution_count": 9,
     "metadata": {},
     "output_type": "execute_result"
    }
   ],
   "source": [
    "#contagem dos valores para sim e não\n",
    "df.Stress_Diagnosis.value_counts()"
   ]
  },
  {
   "cell_type": "markdown",
   "id": "6fad9d6c-e976-47f7-9673-df2b70c8bb14",
   "metadata": {},
   "source": [
    "***"
   ]
  },
  {
   "cell_type": "markdown",
   "id": "d971f1fd-7ccc-4e3d-8607-5680ab99ea47",
   "metadata": {},
   "source": [
    "##### **Separando o dataset em dois (treino e teste)** "
   ]
  },
  {
   "cell_type": "code",
   "execution_count": 14,
   "id": "fdb394f4-a975-4d9b-98af-cbebea54f0e0",
   "metadata": {},
   "outputs": [],
   "source": [
    "#Separa o dataframe em dois (treino e teste)\n",
    "train, test = train_test_split(df, test_size=0.2, random_state=0)"
   ]
  },
  {
   "cell_type": "markdown",
   "id": "1c61ae57-f2e8-4bbe-99d5-004b404fdb2e",
   "metadata": {},
   "source": [
    "***"
   ]
  },
  {
   "cell_type": "markdown",
   "id": "60478e8f-df49-448e-b9e9-2fd6220e8137",
   "metadata": {},
   "source": [
    "##### **Convertendo dados brutos em dados númericos**\n",
    "\n",
    "Texte possuem valores descritivos e os algoritimos de classificação entendem somente números, por isso precisamos converter o texto analisado para um vetor númerico antes de passa-lo para o algoritimo."
   ]
  },
  {
   "cell_type": "code",
   "execution_count": 16,
   "id": "c2748e6e-66c7-4b7e-94cc-077eb6898465",
   "metadata": {},
   "outputs": [],
   "source": [
    "vectorizer = TfidfVectorizer()\n",
    "\n",
    "#Vetorizando o dataset de treino\n",
    "text_train_vectorize = vectorizer.fit_transform(train.symptoms)\n",
    "\n",
    "#Vetorizando o dataset de treino\n",
    "text_test_vectorize = vectorizer.transform(test.symptoms)"
   ]
  },
  {
   "cell_type": "markdown",
   "id": "26041217-9f28-440c-a3b3-bd09bf60e559",
   "metadata": {},
   "source": [
    "***"
   ]
  },
  {
   "cell_type": "markdown",
   "id": "a11b2b6d-7758-4b3c-8dbd-3f33f95c4f85",
   "metadata": {},
   "source": [
    "##### **Realizando o treino utilizando o algorimtimo Naive Bayes MultinomialNB**\n",
    "\n",
    "O classificador multinomial Naive Bayes é adequado para classificação com características discretas (por exemplo, contagem de palavras para classificação de texto). A distribuição multinomial normalmente requer contagens de características inteiras.\n",
    "\n",
    "<a href=\"https://scikit-learn.org/stable/modules/generated/sklearn.naive_bayes.MultinomialNB.html\" target=\"_blank\">MultinomialNB</a>"
   ]
  },
  {
   "cell_type": "code",
   "execution_count": 17,
   "id": "52df42d5-0192-4609-9ee2-558552fb3e4c",
   "metadata": {},
   "outputs": [],
   "source": [
    "#Treinando o modelo utilizando o dataset de treino.\n",
    "model1 = MultinomialNB()\n",
    "model1.fit(text_train_vectorize, train.in_stress)"
   ]
  },
  {
   "cell_type": "code",
   "execution_count": 18,
   "id": "d1de8f11-4008-4676-87da-044ccc662cf7",
   "metadata": {},
   "outputs": [],
   "source": [
    "#Testando o modelo utilizando o dataset de treino.\n",
    "MultinomialNB_predicted = model1.predict(text_test_vectorize)"
   ]
  },
  {
   "cell_type": "code",
   "execution_count": 19,
   "id": "25636940-d3f3-44e4-b239-b572385d4e3d",
   "metadata": {},
   "outputs": [
    {
     "name": "stdout",
     "output_type": "stream",
     "text": [
      "Accuracy: 0.6883802816901409\n",
      "F1 score: 0.6522869939647569\n"
     ]
    }
   ],
   "source": [
    "#apresentando resultados\n",
    "print('Accuracy:', accuracy_score(test.in_stress, MultinomialNB_predicted))\n",
    "print('F1 score:', f1_score(test.in_stress, MultinomialNB_predicted, average=\"macro\"))"
   ]
  },
  {
   "cell_type": "markdown",
   "id": "f566ed9f-c8e1-4217-8962-b02998038228",
   "metadata": {},
   "source": [
    "***"
   ]
  },
  {
   "cell_type": "markdown",
   "id": "09101cc2-b26c-4725-b41f-5a9c80755519",
   "metadata": {},
   "source": [
    "##### **Realizando o treino utilizando o algorimtimo Naive Bayes ComplementNB**\n",
    "\n",
    "O classificador Complement Naive Bayes foi projetado para corrigir as “suposições severas” feitas pelo classificador Multinomial Naive Bayes padrão. É particularmente adequado para conjuntos de dados desequilibrados.\n",
    "\n",
    "<a href=\"https://scikit-learn.org/stable/modules/generated/sklearn.naive_bayes.ComplementNB.html#sklearn.naive_bayes.ComplementNB\" target=\"_blank\">ComplementNB</a>"
   ]
  },
  {
   "cell_type": "code",
   "execution_count": 34,
   "id": "68f626b3-68a8-4ece-b4ad-ac1333f97493",
   "metadata": {},
   "outputs": [
    {
     "data": {
      "text/plain": [
       "ComplementNB()"
      ]
     },
     "execution_count": 34,
     "metadata": {},
     "output_type": "execute_result"
    }
   ],
   "source": [
    "#Treinando o modelo utilizando o dataset de treino.\n",
    "model2 = ComplementNB()\n",
    "model2.fit(text_train_vectorize, train.in_stress)"
   ]
  },
  {
   "cell_type": "code",
   "execution_count": 35,
   "id": "69d02b52-13b4-4ef7-846c-752186aba622",
   "metadata": {},
   "outputs": [],
   "source": [
    "#Testando o modelo utilizando o dataset de treino.\n",
    "ComplementNB_predicted = model2.predict(text_test_vectorize)"
   ]
  },
  {
   "cell_type": "code",
   "execution_count": 36,
   "id": "50da62ea-621b-44c9-b62a-08d7dd2a100b",
   "metadata": {},
   "outputs": [
    {
     "name": "stdout",
     "output_type": "stream",
     "text": [
      "Accuracy: 0.7130281690140845\n",
      "F1 score: 0.6899386803036849\n"
     ]
    }
   ],
   "source": [
    "#apresentando resultados\n",
    "print('Accuracy:', accuracy_score(test.in_stress, ComplementNB_predicted))\n",
    "print('F1 score:', f1_score(test.in_stress, ComplementNB_predicted, average=\"macro\"))"
   ]
  },
  {
   "cell_type": "markdown",
   "id": "d07db8dd-2b11-4e20-b6ff-83fe0d9034db",
   "metadata": {},
   "source": [
    "***"
   ]
  },
  {
   "cell_type": "markdown",
   "id": "9d1d6119-06cf-4d56-a366-921ca772e3d7",
   "metadata": {},
   "source": [
    "##### **Realizando o treino utilizando o algorimtimo de regressão linear com SGDClassifier**\n",
    "\n",
    "O classificador SGDClassifier implementa modelos lineares regularizados com aprendizado de descida de gradiente estocástico (SGD): o gradiente da perda é estimado a cada amostra por vez e o modelo é atualizado ao longo do caminho com um cronograma de força decrescente (também conhecido como taxa de aprendizado).\n",
    "\n",
    "<a href=\"https://scikit-learn.org/stable/modules/generated/sklearn.linear_model.SGDClassifier.html\" target=\"_blank\">SGDClassifier</a>"
   ]
  },
  {
   "cell_type": "code",
   "execution_count": 93,
   "id": "61bf180d-2cb4-4dc8-b823-ff62e7ad5572",
   "metadata": {},
   "outputs": [
    {
     "data": {
      "text/plain": [
       "SGDClassifier(alpha=0.001)"
      ]
     },
     "execution_count": 93,
     "metadata": {},
     "output_type": "execute_result"
    }
   ],
   "source": [
    "#Treinando o modelo utilizando o dataset de treino.\n",
    "#loss = função de perda\n",
    "\n",
    "model3 = SGDClassifier(loss='hinge', penalty='l2', alpha=1e-3)\n",
    "#SGDClassifier(loss='hinge', penalty='l2', alpha=1e-3, random_state=42, max_iter=5, tol=None)\n",
    "model3.fit(text_train_vectorize, train.in_stress) "
   ]
  },
  {
   "cell_type": "markdown",
   "id": "18c9a160-23f3-45b9-9be5-4175eb4b4edf",
   "metadata": {},
   "source": [
    "##### Descrição parametros utilizados no algoritimo\n",
    "loss = função de perda\n",
    "* hinge = fornece um SVM linear\n",
    "\n",
    "penalty = A penalidade (também conhecida como termo de regularização) a ser usada. \n",
    "* l2 = regularizador padrão para modelos SVM lineares"
   ]
  },
  {
   "cell_type": "code",
   "execution_count": 94,
   "id": "129cc89e-7711-4dcb-98d3-ea0caa9a64d4",
   "metadata": {},
   "outputs": [],
   "source": [
    "#Testando o modelo utilizando o dataset de treino.\n",
    "SGDClassifier_predicted = model3.predict(text_test_vectorize)"
   ]
  },
  {
   "cell_type": "code",
   "execution_count": 95,
   "id": "1eeef6d5-be39-4ff8-84bf-80fb46140440",
   "metadata": {},
   "outputs": [
    {
     "name": "stdout",
     "output_type": "stream",
     "text": [
      "Accuracy: 0.7640845070422535\n",
      "F1 score: 0.7623876123876124\n"
     ]
    }
   ],
   "source": [
    "#apresentando resultados\n",
    "print('Accuracy:', accuracy_score(test.in_stress, SGDClassifier_predicted))\n",
    "print('F1 score:', f1_score(test.in_stress, SGDClassifier_predicted, average=\"macro\"))"
   ]
  },
  {
   "cell_type": "markdown",
   "id": "4256c0c8-8e15-463c-a42d-bd6d8aa0627d",
   "metadata": {},
   "source": [
    "***"
   ]
  },
  {
   "cell_type": "markdown",
   "id": "73a83e77-26b6-4ae8-acfc-b165dbed7869",
   "metadata": {},
   "source": [
    "##### **Avaliando o modelo**\n",
    "\n",
    "O modelo escolhido foi o 3º terceiro (SGDClassifier). Vamos agora avaliar este modelo!"
   ]
  },
  {
   "cell_type": "code",
   "execution_count": 99,
   "id": "a480319b-68ec-4571-afa1-264b8f3abafa",
   "metadata": {},
   "outputs": [
    {
     "name": "stdout",
     "output_type": "stream",
     "text": [
      "              precision    recall  f1-score   support\n",
      "\n",
      "           0       0.78      0.71      0.74       273\n",
      "           1       0.75      0.82      0.78       295\n",
      "\n",
      "    accuracy                           0.76       568\n",
      "   macro avg       0.77      0.76      0.76       568\n",
      "weighted avg       0.77      0.76      0.76       568\n",
      "\n",
      "[0 1]\n"
     ]
    }
   ],
   "source": [
    "print(metrics.classification_report(test.in_stress, SGDClassifier_predicted))\n",
    "print(model3.classes_)"
   ]
  },
  {
   "cell_type": "markdown",
   "id": "66f06f61-6009-496a-98b4-7a75bc04417e",
   "metadata": {},
   "source": [
    "* **Matriz de confusão** – usada para visualizar a performance de um classificador."
   ]
  },
  {
   "cell_type": "code",
   "execution_count": 96,
   "id": "ad7e5429-529f-4fdf-90a8-2e8cb38ec693",
   "metadata": {},
   "outputs": [
    {
     "name": "stdout",
     "output_type": "stream",
     "text": [
      "[[193  80]\n",
      " [ 54 241]]\n"
     ]
    }
   ],
   "source": [
    "confusion_matrix = confusion_matrix(test.in_stress, SGDClassifier_predicted)\n",
    "print(confusion_matrix)"
   ]
  },
  {
   "cell_type": "code",
   "execution_count": 97,
   "id": "7dbd8df2-5e61-4300-bbab-86dee55b5dd1",
   "metadata": {},
   "outputs": [
    {
     "data": {
      "image/png": "[encoded data removed]",
      "text/plain": [
       "<Figure size 288x288 with 2 Axes>"
      ]
     },
     "metadata": {
      "needs_background": "light"
     },
     "output_type": "display_data"
    }
   ],
   "source": [
    "plt.matshow(confusion_matrix)\n",
    "plt.title(\"Matriz de confusão\")\n",
    "plt.colorbar()\n",
    "plt.ylabel(\"Classificações corretas\")\n",
    "plt.xlabel(\"Classificações obtidas\")\n",
    "plt.show()"
   ]
  },
  {
   "cell_type": "markdown",
   "id": "1b50cd7c-d4d9-4091-8be9-b43ba99e4589",
   "metadata": {},
   "source": [
    "#### A Matriz de confusão pode ser lida tanto na horizontal quanto na vertical.\n",
    "#### Leitura na Horizontal\n",
    "##### Existem 273 itens classificados na classe 0 (No):\n",
    "* 193 desses itens estão corretamente classificados na classe No.\n",
    "* 80 desses itens estão incorretamente classificados na classe Yes.\n",
    "\n",
    "##### Há 295 itens na classe 1 (Yes):\n",
    "* 54 desses itens estão incorretamente classificados na classe No.\n",
    "* 241 desses itens estão corretamente classificados na classe Yes.\n",
    "\n",
    "#### Leitura na Vertical\n",
    "##### Existem 247 itens classificados na classe 0 (No):\n",
    "* 193 desses itens estão corretamente classificados na classe No.\n",
    "* 54 desses itens estão incorretamente classificados na classe Yes.\n",
    "\n",
    "##### Há 321 itens na classe 1 (Yes):\n",
    "* 80 desses itens estão incorretamente classificados na classe No.\n",
    "* 241 desses itens estão corretamente classificados na classe Yes."
   ]
  },
  {
   "cell_type": "markdown",
   "id": "ea6b80c9-0ace-4fb4-b91e-aa3288bb52f2",
   "metadata": {},
   "source": [
    "***"
   ]
  },
  {
   "cell_type": "markdown",
   "id": "621ef51a-63cc-41b7-aa19-a16b9b3587a3",
   "metadata": {},
   "source": [
    "##### **Prevendo estresse utilizando novos dados**"
   ]
  },
  {
   "cell_type": "code",
   "execution_count": 123,
   "id": "e492b606-9cf1-4b25-8f1b-cb19592fab74",
   "metadata": {},
   "outputs": [
    {
     "name": "stdout",
     "output_type": "stream",
     "text": [
      "\"What a hell of a job, every day I have to see that woman's melancholy face. I can't take this horrible feeling anymore that feels like I'm being sucked into some black hole.\" => Yes\n",
      "\"How I love arriving in the morning and smelling Rose's coffee. This company has a wonderful environment, I feel happy and fulfilled in this place.\" => No\n"
     ]
    }
   ],
   "source": [
    "new_posts = [\n",
    "    \"What a hell of a job, every day I have to see that woman's melancholy face. I can't take this horrible feeling anymore that feels like I'm being sucked into some black hole.\",\n",
    "    \"How I love arriving in the morning and smelling Rose's coffee. This company has a wonderful environment, I feel happy and fulfilled in this place.\"\n",
    "]\n",
    "\n",
    "new_posts_vectorize = vectorizer.transform(new_posts)\n",
    "\n",
    "predicted = model3.predict(new_posts_vectorize)\n",
    "\n",
    "for doc, category in zip(new_posts, predicted):\n",
    "    category_name = lambda category : 'Yes' if(category == 1) else 'No'\n",
    "    print('%r => %s' % (doc, category_name(category)))"
   ]
  },
  {
   "cell_type": "markdown",
   "id": "beb613a2-0498-4058-aa89-2288a434593d",
   "metadata": {},
   "source": [
    "***"
   ]
  }
 ],
 "metadata": {
  "kernelspec": {
   "display_name": "Python 3 (ipykernel)",
   "language": "python",
   "name": "python3"
  },
  "language_info": {
   "codemirror_mode": {
    "name": "ipython",
    "version": 3
   },
   "file_extension": ".py",
   "mimetype": "text/x-python",
   "name": "python",
   "nbconvert_exporter": "python",
   "pygments_lexer": "ipython3",
   "version": "3.9.7"
  }
 },
 "nbformat": 4,
 "nbformat_minor": 5
}
